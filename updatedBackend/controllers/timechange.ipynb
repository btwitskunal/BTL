{
 "cells": [
  {
   "cell_type": "code",
   "execution_count": 2,
   "id": "eedf698e",
   "metadata": {},
   "outputs": [
    {
     "name": "stdout",
     "output_type": "stream",
     "text": [
      "IST Time: 2025-08-28 10:15:04.297000\n"
     ]
    }
   ],
   "source": [
    "from datetime import datetime\n",
    "import pytz\n",
    "\n",
    "# Original UTC timestamp\n",
    "utc_time = datetime.strptime(\"2025-08-28T04:45:04.297Z\", \"%Y-%m-%dT%H:%M:%S.%fZ\")\n",
    "\n",
    "# Convert to IST\n",
    "utc_zone = pytz.utc\n",
    "ist_zone = pytz.timezone(\"Asia/Kolkata\")\n",
    "\n",
    "utc_time = utc_zone.localize(utc_time)\n",
    "ist_time = utc_time.astimezone(ist_zone)\n",
    "\n",
    "print(\"IST Time:\", ist_time.strftime(\"%Y-%m-%d %H:%M:%S.%f\"))"
   ]
  }
 ],
 "metadata": {
  "kernelspec": {
   "display_name": "Python 3",
   "language": "python",
   "name": "python3"
  },
  "language_info": {
   "codemirror_mode": {
    "name": "ipython",
    "version": 3
   },
   "file_extension": ".py",
   "mimetype": "text/x-python",
   "name": "python",
   "nbconvert_exporter": "python",
   "pygments_lexer": "ipython3",
   "version": "3.13.5"
  }
 },
 "nbformat": 4,
 "nbformat_minor": 5
}
